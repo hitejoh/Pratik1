{
  "nbformat": 4,
  "nbformat_minor": 0,
  "metadata": {
    "colab": {
      "provenance": []
    },
    "kernelspec": {
      "name": "python3",
      "display_name": "Python 3"
    },
    "language_info": {
      "name": "python"
    }
  },
  "cells": [
    {
      "cell_type": "code",
      "execution_count": 26,
      "metadata": {
        "colab": {
          "base_uri": "https://localhost:8080/"
        },
        "id": "WYvDApvZx24C",
        "outputId": "a7093d91-2a65-459b-8689-54e5742c0d38"
      },
      "outputs": [
        {
          "output_type": "stream",
          "name": "stdout",
          "text": [
            "New created array.\r2\r\r\n",
            "4\r\r\n",
            "6\r\r\n",
            "8\r\r\n",
            "10\r\r\n"
          ]
        }
      ],
      "source": [
        "#creating array\n",
        "import array\n",
        "arr=array.array(\"I\",[2,4,6,8,10,12])\n",
        "print(\"New created array.\",end=\"\\r\")\n",
        "for I in range(0,5):\n",
        "  print(arr[I],end=\"\\r\")\n",
        "  print(\"\\r\")\n"
      ]
    },
    {
      "cell_type": "code",
      "source": [
        "#importing pandas as pd\n",
        "import pandas as pd\n",
        "dict={\"name\":[\"Pratik\",\"Shivansh\",\"Anak\",\"Rini\"],\n",
        "'age':[\"20\",\"39\",\"34\",\"36\"]}\n",
        "info=pd.DataFrame(dict,index=[True,True,False,True])\n",
        "print(info)"
      ],
      "metadata": {
        "colab": {
          "base_uri": "https://localhost:8080/"
        },
        "id": "k3S16n0Z4BTo",
        "outputId": "bd657034-5bf8-4001-bf02-482c0a75e4b4"
      },
      "execution_count": 28,
      "outputs": [
        {
          "output_type": "stream",
          "name": "stdout",
          "text": [
            "           name age\n",
            "True     Pratik  20\n",
            "True   Shivansh  39\n",
            "False      Anak  34\n",
            "True       Rini  36\n"
          ]
        }
      ]
    },
    {
      "cell_type": "code",
      "source": [
        "#Example 2:\n",
        "                   #importing pandas as pd\n",
        "import pandas as pd\n",
        "                   #dictionary of lists\n",
        "dict={'name':[\"Pratik\",\"Anak\",\"Rini\",\"Shivansh\"],\n",
        "'age':[\"28\",\"39\",\"34\",\"36\"]}\n",
        "info=pd.DataFrame(dict,index=[True,True,False,True])\n",
        "                   #accessing a dataframe using loc[]function\n",
        "print(info.loc[True])"
      ],
      "metadata": {
        "colab": {
          "base_uri": "https://localhost:8080/"
        },
        "id": "LL4U_HUK4BX_",
        "outputId": "e84150b1-1bc8-47e4-83a3-4f8ce21eab2d"
      },
      "execution_count": 37,
      "outputs": [
        {
          "output_type": "stream",
          "name": "stdout",
          "text": [
            "          name age\n",
            "True    Pratik  28\n",
            "True      Anak  39\n",
            "True  Shivansh  36\n"
          ]
        }
      ]
    },
    {
      "cell_type": "code",
      "source": [
        "#reshaped parameter\n",
        "import numpy as np\n",
        "arr=np.arange(16)\n",
        "print(\"The Original array is:\\n\",arr)\n",
        "         #shape array with 2 rows and 8 columns\n",
        "arr = np.arange(16).reshape(2,8)\n",
        "print(\"\\nreshaped array:\\n\",arr)\n",
        "arr= np.arange(16).reshape(8,2)\n",
        "print(\"\\nreshaped array: \\n\",arr)\n"
      ],
      "metadata": {
        "colab": {
          "base_uri": "https://localhost:8080/"
        },
        "id": "ZRmWe2lJ8bbd",
        "outputId": "fa057d12-3c37-495a-b5b4-899bb595fe78"
      },
      "execution_count": 45,
      "outputs": [
        {
          "output_type": "stream",
          "name": "stdout",
          "text": [
            "The Original array is:\n",
            " [ 0  1  2  3  4  5  6  7  8  9 10 11 12 13 14 15]\n",
            "\n",
            "reshaped array:\n",
            " [[ 0  1  2  3  4  5  6  7]\n",
            " [ 8  9 10 11 12 13 14 15]]\n",
            "\n",
            "reshaped array: \n",
            " [[ 0  1]\n",
            " [ 2  3]\n",
            " [ 4  5]\n",
            " [ 6  7]\n",
            " [ 8  9]\n",
            " [10 11]\n",
            " [12 13]\n",
            " [14 15]]\n"
          ]
        }
      ]
    },
    {
      "cell_type": "code",
      "source": [],
      "metadata": {
        "id": "gtfWK7Nz8biD"
      },
      "execution_count": null,
      "outputs": []
    },
    {
      "cell_type": "code",
      "source": [],
      "metadata": {
        "id": "1ShviLIe8byb"
      },
      "execution_count": null,
      "outputs": []
    },
    {
      "cell_type": "code",
      "source": [],
      "metadata": {
        "id": "JFrzbDGh8b1a"
      },
      "execution_count": null,
      "outputs": []
    },
    {
      "cell_type": "code",
      "source": [],
      "metadata": {
        "id": "rNhUY_SQ8b4c"
      },
      "execution_count": null,
      "outputs": []
    }
  ]
}